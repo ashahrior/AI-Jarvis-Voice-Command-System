{
 "cells": [
  {
   "cell_type": "markdown",
   "metadata": {},
   "source": [
    "<h3>Importing Modules</h3>\n",
    "\n",
    "<b>pyttsx3</b> - This works the voice of the JARVIS<br>\n",
    "<b>speech_recognition</b> - This takes the voice input<br>\n",
    "<b>webbrowser</b> - This accesses the browsers on the device<br>"
   ]
  },
  {
   "cell_type": "code",
   "execution_count": 10,
   "metadata": {},
   "outputs": [],
   "source": [
    "import pyttsx3  # module for voice of the program\n",
    "import datetime\n",
    "import speech_recognition as sr   # for taking voice input\n",
    "import wikipedia\n",
    "import webbrowser\n",
    "import os\n",
    "import random"
   ]
  },
  {
   "cell_type": "markdown",
   "metadata": {},
   "source": [
    "'sapi5' is an API developed by Microsoft to allow the use of speech recognition and speech synthesis within Windows applications. Here we get two voices from the API."
   ]
  },
  {
   "cell_type": "code",
   "execution_count": 21,
   "metadata": {},
   "outputs": [
    {
     "name": "stdout",
     "output_type": "stream",
     "text": [
      "[<pyttsx3.voice.Voice object at 0x000001E47E5C7E48>, <pyttsx3.voice.Voice object at 0x000001E47E5C74A8>]\n",
      "2\n"
     ]
    }
   ],
   "source": [
    "engine = pyttsx3.init('sapi5')\n",
    "voices = engine.getProperty('voices')\n",
    "print(voices)\n",
    "print(len(voices))"
   ]
  },
  {
   "cell_type": "code",
   "execution_count": 22,
   "metadata": {},
   "outputs": [
    {
     "name": "stdout",
     "output_type": "stream",
     "text": [
      "HKEY_LOCAL_MACHINE\\SOFTWARE\\Microsoft\\Speech\\Voices\\Tokens\\TTS_MS_EN-US_ZIRA_11.0\n"
     ]
    }
   ],
   "source": [
    "engine.setProperty('voice', voices[0].id)\n",
    "print(voices[1].id)"
   ]
  },
  {
   "cell_type": "markdown",
   "metadata": {},
   "source": [
    "<b>speak()</b> function takes a string 'audio' as input and translates into speech"
   ]
  },
  {
   "cell_type": "code",
   "execution_count": 5,
   "metadata": {},
   "outputs": [],
   "source": [
    "def speak(audio):\n",
    "    engine.say(audio)\n",
    "    engine.runAndWait()"
   ]
  },
  {
   "cell_type": "markdown",
   "metadata": {},
   "source": [
    "<b>wishMe()</b> function greets in accordance to the time of the day by importing current hour from the system."
   ]
  },
  {
   "cell_type": "code",
   "execution_count": 6,
   "metadata": {},
   "outputs": [],
   "source": [
    "def wishMe():\n",
    "    hour = int(datetime.datetime.now().hour)\n",
    "    if hour >=0 and hour <12:\n",
    "        speak('Good Morning!')\n",
    "    elif hour>=12 and hour <18:\n",
    "        speak('Good afternoon!')\n",
    "    else: speak('Good evening!')\n",
    "    speak('I am Jarvis. What do you want?')"
   ]
  },
  {
   "cell_type": "code",
   "execution_count": null,
   "metadata": {},
   "outputs": [],
   "source": []
  },
  {
   "cell_type": "code",
   "execution_count": 7,
   "metadata": {},
   "outputs": [],
   "source": [
    "def takeCommand(): \n",
    "    #takes microphone input from user and returns string output\n",
    "    r = sr.Recognizer() # for audio recognition\n",
    "    with sr.Microphone() as source:\n",
    "        print(\"Listening...\")\n",
    "        r.pause_threshold = .8\n",
    "        audio = r.listen(source)\n",
    "    try:\n",
    "        print(\"Recognizing...\")\n",
    "        query = r.recognize_google(audio, language='en-in')\n",
    "        print(f\"User said: {query}\\n\")\n",
    "    except Exception as e:\n",
    "        print(e)\n",
    "        print('Say that again please...')\n",
    "        speak('Say that again, please.')\n",
    "        return \"None\"\n",
    "    return query\n",
    "    "
   ]
  },
  {
   "cell_type": "code",
   "execution_count": 18,
   "metadata": {},
   "outputs": [
    {
     "name": "stdout",
     "output_type": "stream",
     "text": [
      "Listening...\n",
      "Recognizing...\n",
      "Nigga said: open PDF reader\n",
      "\n"
     ]
    }
   ],
   "source": [
    "if __name__==\"__main__\":\n",
    "    #speak(\"Harry is a bad nigga\")\n",
    "    wishMe()\n",
    "          \n",
    "    query = takeCommand().lower()\n",
    "    # logic for executing tasks based on query\n",
    "    if 'wikipedia' in query:\n",
    "        speak(\"Searching Wikipedia...\")\n",
    "        query = query.replace(\"wikipedia\",\"\")\n",
    "        results = wikipedia.summary(query,sentences=2)\n",
    "        print(results)\n",
    "        speak('According to Wikipedia ')\n",
    "        speak(results)\n",
    "    elif 'open youtube' in query:\n",
    "        webbrowser.get('chrome').open_new_tab(\"youtube.com\")\n",
    "    elif 'open stackoverflow' in query:\n",
    "        webbrowser.get('chrome').open_new_tab(\"stackoverflow.com\")\n",
    "    elif 'play music' in query:\n",
    "        music_dir = \"H:\\\\SONGS\"\n",
    "        songs = os.listdir(music_dir)\n",
    "        #print(songs)\n",
    "        track = random.randint(0,len(songs)-1)\n",
    "        os.startfile(os.path.join(music_dir,songs[track]))\n",
    "    elif 'the time' in query:\n",
    "        strTime = datetime.datetime.now().strftime(\"%H:%M:%S\")\n",
    "        speak(f\"Sir, the time is {strTime}\")\n",
    "    elif 'open pdf reader' in query:\n",
    "        foxitPath = \"C:\\\\Program Files (x86)\\\\FOXIT SOFTWARE\\\\FOXIT READER\\\\FoxitReader.exe\"\n",
    "        os.startfile(foxitPath)\n",
    "    "
   ]
  },
  {
   "cell_type": "code",
   "execution_count": null,
   "metadata": {},
   "outputs": [],
   "source": []
  }
 ],
 "metadata": {
  "kernelspec": {
   "display_name": "Python 3",
   "language": "python",
   "name": "python3"
  },
  "language_info": {
   "codemirror_mode": {
    "name": "ipython",
    "version": 3
   },
   "file_extension": ".py",
   "mimetype": "text/x-python",
   "name": "python",
   "nbconvert_exporter": "python",
   "pygments_lexer": "ipython3",
   "version": "3.7.3"
  }
 },
 "nbformat": 4,
 "nbformat_minor": 2
}
